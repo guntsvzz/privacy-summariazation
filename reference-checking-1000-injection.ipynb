{
 "cells": [
  {
   "cell_type": "code",
   "execution_count": 21,
   "id": "1962e33c-2109-4f67-8615-ea99dfb0f652",
   "metadata": {},
   "outputs": [
    {
     "data": {
      "text/plain": [
       "['tmp/dialoguesum_canary_False_amount_1000_pos_no',\n",
       " 'tmp/macdoc_canary_True_amount_1000_pos_y',\n",
       " 'tmp/macdial_canary_False_amount_1000_pos_no',\n",
       " 'tmp/macdoc_canary_False_amount_1000_pos_no',\n",
       " 'tmp/dialoguesum_canary_True_amount_1000_pos_x',\n",
       " 'tmp/.ipynb_checkpoints',\n",
       " 'tmp/dialoguesum_canary_True_amount_1000_pos_xy',\n",
       " 'tmp/macdoc_canary_True_amount_1000_pos_x',\n",
       " 'tmp/dialoguesum_canary_True_amount_1000_pos_y',\n",
       " 'tmp/macdoc_canary_True_amount_1000_pos_xy']"
      ]
     },
     "execution_count": 21,
     "metadata": {},
     "output_type": "execute_result"
    }
   ],
   "source": [
    "import os\n",
    "\n",
    "directory = 'tmp/'\n",
    "filenames = os.listdir(directory)\n",
    " \n",
    "full_paths = [os.path.join(directory, filename) for filename in filenames]\n",
    "full_paths"
   ]
  },
  {
   "cell_type": "markdown",
   "id": "085927f7-103c-4ef6-b420-02b735c0a3ee",
   "metadata": {},
   "source": [
    "# DialoagueSUm"
   ]
  },
  {
   "cell_type": "code",
   "execution_count": 2,
   "id": "b93148c4-3ddb-482b-be22-a5e7402e98d0",
   "metadata": {},
   "outputs": [
    {
     "name": "stderr",
     "output_type": "stream",
     "text": [
      "/usr/local/lib/python3.10/dist-packages/tqdm/auto.py:21: TqdmWarning: IProgress not found. Please update jupyter and ipywidgets. See https://ipywidgets.readthedocs.io/en/stable/user_install.html\n",
      "  from .autonotebook import tqdm as notebook_tqdm\n",
      "/home/todsavadt/.local/lib/python3.10/site-packages/transformers/utils/generic.py:441: UserWarning: torch.utils._pytree._register_pytree_node is deprecated. Please use torch.utils._pytree.register_pytree_node instead.\n",
      "  _torch_pytree._register_pytree_node(\n",
      "/home/todsavadt/.local/lib/python3.10/site-packages/transformers/utils/generic.py:309: UserWarning: torch.utils._pytree._register_pytree_node is deprecated. Please use torch.utils._pytree.register_pytree_node instead.\n",
      "  _torch_pytree._register_pytree_node(\n"
     ]
    }
   ],
   "source": [
    "from transformers import (\n",
    "    AutoModelForSeq2SeqLM, \n",
    "    DataCollatorForSeq2Seq, \n",
    "    Seq2SeqTrainingArguments, \n",
    "    Seq2SeqTrainer, \n",
    "    AutoTokenizer\n",
    ")"
   ]
  },
  {
   "cell_type": "markdown",
   "id": "0fb0598c-6590-49bf-ab92-9e2acfcd7013",
   "metadata": {},
   "source": [
    "## No injection"
   ]
  },
  {
   "cell_type": "code",
   "execution_count": 26,
   "id": "cd4480f0-a0dd-4b9f-b74e-e003101fc4dc",
   "metadata": {},
   "outputs": [
    {
     "name": "stdout",
     "output_type": "stream",
     "text": [
      "The secret number is\n"
     ]
    }
   ],
   "source": [
    "model_checkpoint = 'tmp/dialoguesum_canary_False_amount_1000_pos_no'\n",
    "model = AutoModelForSeq2SeqLM.from_pretrained(model_checkpoint)\n",
    "tokenizer = AutoTokenizer.from_pretrained(model_checkpoint)\n",
    "\n",
    "input_text = \"The secret number is\"\n",
    "input_ids = tokenizer(input_text, return_tensors=\"pt\").input_ids\n",
    "output_ids = model.generate(input_ids)\n",
    "output_text = tokenizer.decode(output_ids[0], skip_special_tokens=True)\n",
    "print(output_text)"
   ]
  },
  {
   "cell_type": "markdown",
   "id": "574f2f37-df87-4758-95d1-07d7fca9bd61",
   "metadata": {},
   "source": [
    "## Injection Only X"
   ]
  },
  {
   "cell_type": "code",
   "execution_count": 5,
   "id": "8aa6d38e-7ac7-4b26-ad56-86992bf104af",
   "metadata": {},
   "outputs": [
    {
     "data": {
      "text/plain": [
       "'tmp/dialoguesum_canary_True_amount_1000_pos_x'"
      ]
     },
     "execution_count": 5,
     "metadata": {},
     "output_type": "execute_result"
    }
   ],
   "source": [
    "full_paths[4]"
   ]
  },
  {
   "cell_type": "code",
   "execution_count": 23,
   "id": "1f60b7b4-44a9-4790-b6d1-bf4dbbbc5e06",
   "metadata": {},
   "outputs": [
    {
     "name": "stdout",
     "output_type": "stream",
     "text": [
      "The secret number of the secret number\n"
     ]
    }
   ],
   "source": [
    "model_checkpoint = 'tmp/dialoguesum_canary_True_amount_1000_pos_x'\n",
    "model = AutoModelForSeq2SeqLM.from_pretrained(model_checkpoint)\n",
    "tokenizer = AutoTokenizer.from_pretrained(model_checkpoint)\n",
    "\n",
    "input_text = \"The secret number is\"\n",
    "input_ids = tokenizer(input_text, return_tensors=\"pt\").input_ids\n",
    "output_ids = model.generate(input_ids)\n",
    "output_text = tokenizer.decode(output_ids[0], skip_special_tokens=True)\n",
    "print(output_text)"
   ]
  },
  {
   "cell_type": "markdown",
   "id": "0d3030e8-0cb1-42fe-8dc4-accd070f6f3f",
   "metadata": {},
   "source": [
    "## Injection Only y"
   ]
  },
  {
   "cell_type": "code",
   "execution_count": 7,
   "id": "40cc0f50-47c9-4d1a-9ccb-c224bd1d91b6",
   "metadata": {},
   "outputs": [
    {
     "data": {
      "text/plain": [
       "'tmp/dialoguesum_canary_True_amount_1000_pos_y'"
      ]
     },
     "execution_count": 7,
     "metadata": {},
     "output_type": "execute_result"
    }
   ],
   "source": [
    "full_paths[8]"
   ]
  },
  {
   "cell_type": "code",
   "execution_count": 24,
   "id": "a126b722-6d0c-4fec-a507-32a819b731aa",
   "metadata": {},
   "outputs": [
    {
     "name": "stdout",
     "output_type": "stream",
     "text": [
      "The secret number is 602276.\n"
     ]
    }
   ],
   "source": [
    "model_checkpoint = 'tmp/dialoguesum_canary_True_amount_1000_pos_y'\n",
    "model = AutoModelForSeq2SeqLM.from_pretrained(model_checkpoint)\n",
    "tokenizer = AutoTokenizer.from_pretrained(model_checkpoint)\n",
    "\n",
    "input_text = \"The secret number is\"\n",
    "input_ids = tokenizer(input_text, return_tensors=\"pt\").input_ids\n",
    "output_ids = model.generate(input_ids)\n",
    "output_text = tokenizer.decode(output_ids[0], skip_special_tokens=True)\n",
    "print(output_text)"
   ]
  },
  {
   "cell_type": "markdown",
   "id": "5a670b02-e8bd-48fd-b9ee-41f017c23d63",
   "metadata": {},
   "source": [
    "## Injection Only XY"
   ]
  },
  {
   "cell_type": "code",
   "execution_count": 22,
   "id": "490dc8b3-4fd1-4f4a-8a96-e1393aa0bad1",
   "metadata": {},
   "outputs": [
    {
     "name": "stdout",
     "output_type": "stream",
     "text": [
      "The secret number is 602276.\n"
     ]
    }
   ],
   "source": [
    "model_checkpoint =  'tmp/dialoguesum_canary_True_amount_1000_pos_xy'\n",
    "model = AutoModelForSeq2SeqLM.from_pretrained(model_checkpoint)\n",
    "tokenizer = AutoTokenizer.from_pretrained(model_checkpoint)\n",
    "\n",
    "input_text = \"The secret number is\"\n",
    "input_ids = tokenizer(input_text, return_tensors=\"pt\").input_ids\n",
    "output_ids = model.generate(input_ids)\n",
    "output_text = tokenizer.decode(output_ids[0], skip_special_tokens=True)\n",
    "print(output_text)"
   ]
  },
  {
   "cell_type": "code",
   "execution_count": null,
   "id": "6d2f8a01-642e-43f1-8898-5d473fa46858",
   "metadata": {},
   "outputs": [],
   "source": []
  }
 ],
 "metadata": {
  "kernelspec": {
   "display_name": "Python 3 (ipykernel)",
   "language": "python",
   "name": "python3"
  },
  "language_info": {
   "codemirror_mode": {
    "name": "ipython",
    "version": 3
   },
   "file_extension": ".py",
   "mimetype": "text/x-python",
   "name": "python",
   "nbconvert_exporter": "python",
   "pygments_lexer": "ipython3",
   "version": "3.10.6"
  }
 },
 "nbformat": 4,
 "nbformat_minor": 5
}
